{
  "nbformat": 4,
  "nbformat_minor": 0,
  "metadata": {
    "colab": {
      "name": "variables.ipynb",
      "provenance": [],
      "collapsed_sections": [],
      "authorship_tag": "ABX9TyPvBTBkDk3N/61o60D0lQWQ",
      "include_colab_link": true
    },
    "kernelspec": {
      "name": "python3",
      "display_name": "Python 3"
    }
  },
  "cells": [
    {
      "cell_type": "markdown",
      "metadata": {
        "id": "view-in-github",
        "colab_type": "text"
      },
      "source": [
        "<a href=\"https://colab.research.google.com/github/markumreed/data_science_for_kids/blob/main/variables.ipynb\" target=\"_parent\"><img src=\"https://colab.research.google.com/assets/colab-badge.svg\" alt=\"Open In Colab\"/></a>"
      ]
    },
    {
      "cell_type": "markdown",
      "metadata": {
        "id": "14ev8IV0E9G5"
      },
      "source": [
        "# Variables\n",
        "- Where we keep our stuff\n",
        "- `=` is the assignment operator\n",
        "- Variables can be anything\n",
        "  - str\n",
        "  - int\n",
        "  - dictionaries\n",
        "  - lists\n",
        "  - functions\n",
        "- Variables are CASE sensitive"
      ]
    },
    {
      "cell_type": "code",
      "metadata": {
        "id": "gYX01N-wG49w"
      },
      "source": [
        "x = 1 # Assigning 1 to x"
      ],
      "execution_count": 1,
      "outputs": []
    },
    {
      "cell_type": "code",
      "metadata": {
        "colab": {
          "base_uri": "https://localhost:8080/"
        },
        "id": "pFpCE8_UJ-VF",
        "outputId": "0a3228df-9785-4d58-9b1b-b743d0a097fd"
      },
      "source": [
        "x"
      ],
      "execution_count": 2,
      "outputs": [
        {
          "output_type": "execute_result",
          "data": {
            "text/plain": [
              "1"
            ]
          },
          "metadata": {
            "tags": []
          },
          "execution_count": 2
        }
      ]
    },
    {
      "cell_type": "code",
      "metadata": {
        "id": "zsu2WNJnJ_cj"
      },
      "source": [
        "x = '❤️😍😒☺️💕'"
      ],
      "execution_count": 5,
      "outputs": []
    },
    {
      "cell_type": "code",
      "metadata": {
        "colab": {
          "base_uri": "https://localhost:8080/",
          "height": 35
        },
        "id": "p1_ZK-n2KIKq",
        "outputId": "f01c66b3-0a98-4d82-a860-a68d6487155e"
      },
      "source": [
        "x"
      ],
      "execution_count": 6,
      "outputs": [
        {
          "output_type": "execute_result",
          "data": {
            "application/vnd.google.colaboratory.intrinsic+json": {
              "type": "string"
            },
            "text/plain": [
              "'❤️😍😒☺️💕'"
            ]
          },
          "metadata": {
            "tags": []
          },
          "execution_count": 6
        }
      ]
    },
    {
      "cell_type": "code",
      "metadata": {
        "id": "96cHjuKPKId2"
      },
      "source": [
        "myFruitList = ['apple', 'pear', 'kiwi'] # CamelCase\n",
        "my_citrus_fruit_list = ['jackfruit', 'pineapple', 'orange'] # snake_case\n",
        "MY_FAV_FRUIT = 'blueberry'\n",
        "my_fav_fruit = 'strawberry'"
      ],
      "execution_count": 7,
      "outputs": []
    },
    {
      "cell_type": "code",
      "metadata": {
        "colab": {
          "base_uri": "https://localhost:8080/"
        },
        "id": "BkU8N7jSLNAX",
        "outputId": "16faf466-6e5d-487e-9ca8-93301ebecd86"
      },
      "source": [
        "print(MY_FAV_FRUIT)\n",
        "print(my_fav_fruit)"
      ],
      "execution_count": 8,
      "outputs": [
        {
          "output_type": "stream",
          "text": [
            "blueberry\n",
            "strawberry\n"
          ],
          "name": "stdout"
        }
      ]
    },
    {
      "cell_type": "code",
      "metadata": {
        "id": "TwzhUmXRLUCi"
      },
      "source": [
        "x = 12 #lowercase\n",
        "X = 'My little pony!' #uppercase"
      ],
      "execution_count": 9,
      "outputs": []
    },
    {
      "cell_type": "code",
      "metadata": {
        "colab": {
          "base_uri": "https://localhost:8080/"
        },
        "id": "dM7_0GmqLdrV",
        "outputId": "b90d1c8b-41fc-4cb7-dd34-5314931e13e5"
      },
      "source": [
        "print(x)\n",
        "print(X)"
      ],
      "execution_count": 10,
      "outputs": [
        {
          "output_type": "stream",
          "text": [
            "12\n",
            "My little pony!\n"
          ],
          "name": "stdout"
        }
      ]
    },
    {
      "cell_type": "markdown",
      "metadata": {
        "id": "2c-ysKq8Ly4d"
      },
      "source": [
        "# Variable Input"
      ]
    },
    {
      "cell_type": "code",
      "metadata": {
        "colab": {
          "base_uri": "https://localhost:8080/"
        },
        "id": "IrAkPWJeLgOR",
        "outputId": "d000ac49-bca9-4f32-d0e4-cfd28f5d0f79"
      },
      "source": [
        "name = input(\"What is your name?\") # Converts texts to a string\n",
        "print(\"Hello\", name)"
      ],
      "execution_count": 11,
      "outputs": [
        {
          "output_type": "stream",
          "text": [
            "What is your name?Markum\n",
            "Hello Markum\n"
          ],
          "name": "stdout"
        }
      ]
    },
    {
      "cell_type": "code",
      "metadata": {
        "colab": {
          "base_uri": "https://localhost:8080/"
        },
        "id": "t-pdnX6OL8VZ",
        "outputId": "165a4237-1dfb-4fd8-d093-607d0f79f9fb"
      },
      "source": [
        "# ThankYou.py\n",
        "\n",
        "my_name = \"Markum\"\n",
        "my_age = 34\n",
        "your_name = input(\"What is your name? \") # prompt \"Prompting user for input.\"\n",
        "your_age = input(\"How old are you? \")\n",
        "print(\"My name is,\", my_name, \"and I am\", my_age, \"years old.\")\n",
        "print(\"Your name is,\", your_name, \"and you are\", your_age, \".\")\n",
        "print(\"Thank you for playing with me,\", your_name,\"!\")"
      ],
      "execution_count": 13,
      "outputs": [
        {
          "output_type": "stream",
          "text": [
            "What is your name? Eli\n",
            "How old are you? 3\n",
            "My name is, Markum and I am 34 years old.\n",
            "Your name is, Eli and you are 3 .\n",
            "Thank you for playing with me, Eli !\n"
          ],
          "name": "stdout"
        }
      ]
    },
    {
      "cell_type": "code",
      "metadata": {
        "id": "ZakTqaKOMy40"
      },
      "source": [
        "# +, -, *, /, **, (), %, //\n",
        "# // floor divsion or int division\n",
        "# % \"modulo\", \"mod\", for finding the remainder after int div"
      ],
      "execution_count": 14,
      "outputs": []
    },
    {
      "cell_type": "code",
      "metadata": {
        "colab": {
          "base_uri": "https://localhost:8080/"
        },
        "id": "Pj7Agr9ZOqle",
        "outputId": "af2e9eae-ab13-4fbb-b4ac-2659a10c133a"
      },
      "source": [
        "2+2"
      ],
      "execution_count": 15,
      "outputs": [
        {
          "output_type": "execute_result",
          "data": {
            "text/plain": [
              "4"
            ]
          },
          "metadata": {
            "tags": []
          },
          "execution_count": 15
        }
      ]
    },
    {
      "cell_type": "code",
      "metadata": {
        "colab": {
          "base_uri": "https://localhost:8080/"
        },
        "id": "CRptWM06OvdS",
        "outputId": "2e270f2d-dbf4-4754-c152-db19bb01f3ee"
      },
      "source": [
        "2 - 2"
      ],
      "execution_count": 16,
      "outputs": [
        {
          "output_type": "execute_result",
          "data": {
            "text/plain": [
              "0"
            ]
          },
          "metadata": {
            "tags": []
          },
          "execution_count": 16
        }
      ]
    },
    {
      "cell_type": "code",
      "metadata": {
        "colab": {
          "base_uri": "https://localhost:8080/"
        },
        "id": "bSOdOZlfOxP1",
        "outputId": "ca9e3ab3-7c06-4802-e3fe-dd7a04d9d2f2"
      },
      "source": [
        "2 * 2"
      ],
      "execution_count": 17,
      "outputs": [
        {
          "output_type": "execute_result",
          "data": {
            "text/plain": [
              "4"
            ]
          },
          "metadata": {
            "tags": []
          },
          "execution_count": 17
        }
      ]
    },
    {
      "cell_type": "code",
      "metadata": {
        "colab": {
          "base_uri": "https://localhost:8080/"
        },
        "id": "m0ke82g-OzaB",
        "outputId": "70ca3f3f-d0fd-4f4b-996c-6bd2027d669d"
      },
      "source": [
        "3 / 2"
      ],
      "execution_count": 19,
      "outputs": [
        {
          "output_type": "execute_result",
          "data": {
            "text/plain": [
              "1.5"
            ]
          },
          "metadata": {
            "tags": []
          },
          "execution_count": 19
        }
      ]
    },
    {
      "cell_type": "code",
      "metadata": {
        "colab": {
          "base_uri": "https://localhost:8080/"
        },
        "id": "QbJnruZ4O1Ns",
        "outputId": "409594ee-b335-450f-d0be-2e01beca6f11"
      },
      "source": [
        "3 // 2"
      ],
      "execution_count": 20,
      "outputs": [
        {
          "output_type": "execute_result",
          "data": {
            "text/plain": [
              "1"
            ]
          },
          "metadata": {
            "tags": []
          },
          "execution_count": 20
        }
      ]
    },
    {
      "cell_type": "code",
      "metadata": {
        "colab": {
          "base_uri": "https://localhost:8080/"
        },
        "id": "9ruUhJZfO7xQ",
        "outputId": "1b08549f-9ad7-43c3-a25e-c5f17d095fab"
      },
      "source": [
        "3 % 2"
      ],
      "execution_count": 21,
      "outputs": [
        {
          "output_type": "execute_result",
          "data": {
            "text/plain": [
              "1"
            ]
          },
          "metadata": {
            "tags": []
          },
          "execution_count": 21
        }
      ]
    },
    {
      "cell_type": "code",
      "metadata": {
        "colab": {
          "base_uri": "https://localhost:8080/"
        },
        "id": "CG2XDbWtPAgT",
        "outputId": "d1db02e3-f380-48d3-baee-5c57346f5d9b"
      },
      "source": [
        "3**3"
      ],
      "execution_count": 22,
      "outputs": [
        {
          "output_type": "execute_result",
          "data": {
            "text/plain": [
              "27"
            ]
          },
          "metadata": {
            "tags": []
          },
          "execution_count": 22
        }
      ]
    },
    {
      "cell_type": "code",
      "metadata": {
        "colab": {
          "base_uri": "https://localhost:8080/"
        },
        "id": "YszkVdA8PNg1",
        "outputId": "f3cdf263-3109-4da3-d962-de81db0a4612"
      },
      "source": [
        "((2+3) / (5+0)) * 5 # Order of operations matters!"
      ],
      "execution_count": 24,
      "outputs": [
        {
          "output_type": "execute_result",
          "data": {
            "text/plain": [
              "5.0"
            ]
          },
          "metadata": {
            "tags": []
          },
          "execution_count": 24
        }
      ]
    },
    {
      "cell_type": "code",
      "metadata": {
        "colab": {
          "base_uri": "https://localhost:8080/",
          "height": 131
        },
        "id": "2-2EFuXgPT7y",
        "outputId": "c6b525f3-bc74-492b-adfe-bc434fade9ae"
      },
      "source": [
        "What is 4 + 5?\n"
      ],
      "execution_count": 25,
      "outputs": [
        {
          "output_type": "error",
          "ename": "SyntaxError",
          "evalue": "ignored",
          "traceback": [
            "\u001b[0;36m  File \u001b[0;32m\"<ipython-input-25-432b0e30adbd>\"\u001b[0;36m, line \u001b[0;32m1\u001b[0m\n\u001b[0;31m    What is 4 + 5?\u001b[0m\n\u001b[0m                 ^\u001b[0m\n\u001b[0;31mSyntaxError\u001b[0m\u001b[0;31m:\u001b[0m invalid syntax\n"
          ]
        }
      ]
    },
    {
      "cell_type": "code",
      "metadata": {
        "colab": {
          "base_uri": "https://localhost:8080/",
          "height": 131
        },
        "id": "GzsZrC0CPsfw",
        "outputId": "d7a10670-0642-443d-fdef-adfddf9e839f"
      },
      "source": [
        "3 + 4 ="
      ],
      "execution_count": 26,
      "outputs": [
        {
          "output_type": "error",
          "ename": "SyntaxError",
          "evalue": "ignored",
          "traceback": [
            "\u001b[0;36m  File \u001b[0;32m\"<ipython-input-26-023e06c791d3>\"\u001b[0;36m, line \u001b[0;32m1\u001b[0m\n\u001b[0;31m    3 + 4 =\u001b[0m\n\u001b[0m           ^\u001b[0m\n\u001b[0;31mSyntaxError\u001b[0m\u001b[0;31m:\u001b[0m invalid syntax\n"
          ]
        }
      ]
    },
    {
      "cell_type": "code",
      "metadata": {
        "id": "nbnALKcuP09l"
      },
      "source": [
        "my_answer = 5 + 5 # Saving your answer for later"
      ],
      "execution_count": 27,
      "outputs": []
    },
    {
      "cell_type": "code",
      "metadata": {
        "colab": {
          "base_uri": "https://localhost:8080/"
        },
        "id": "d9gRpqp3P7Ex",
        "outputId": "fd35a265-4d97-463e-e337-ea7a3f49079e"
      },
      "source": [
        "print(my_answer)"
      ],
      "execution_count": 28,
      "outputs": [
        {
          "output_type": "stream",
          "text": [
            "10\n"
          ],
          "name": "stdout"
        }
      ]
    },
    {
      "cell_type": "code",
      "metadata": {
        "colab": {
          "base_uri": "https://localhost:8080/"
        },
        "id": "9c4FKu4zP-GT",
        "outputId": "89bbe56c-7f3f-4a2a-e002-cde1842763bb"
      },
      "source": [
        "temp_c = eval(input(\"How cold is it outside in Celsius? \"))\n",
        "# f = (c * 1.8) + 32\n",
        "temp_f = (temp_c * 1.8) + 32\n",
        "print(\"The temperature is \", temp_f,\"degrees fahrenheit.\")\n"
      ],
      "execution_count": 31,
      "outputs": [
        {
          "output_type": "stream",
          "text": [
            "How cold is it outside in Celsius? 7\n",
            "The temperature is  44.6 degrees fahrenheit.\n"
          ],
          "name": "stdout"
        }
      ]
    },
    {
      "cell_type": "markdown",
      "metadata": {
        "id": "NY0rlGd8Rk7G"
      },
      "source": [
        "# Pizza Calculator\n",
        "\n",
        "1. Ask the person how many pizzas they want.\n",
        "1. Ask for the menu cost of each pizza. \n",
        "1. Calculate the total cost of the pizzas as our subtotal.\n",
        "1. Calculate the sales tax owed, at 9 percent of the subtotal.\n",
        "1. Add the sales tax to the subtotal for the final total.\n",
        "1. Show the user the total amount due, including tax.\n",
        "\n",
        "*HINT: Need to use, input, eval*"
      ]
    },
    {
      "cell_type": "code",
      "metadata": {
        "colab": {
          "base_uri": "https://localhost:8080/"
        },
        "id": "plVX07HKQ9Wa",
        "outputId": "8f17f57a-1107-4031-a8da-0f7e2ffc527d"
      },
      "source": [
        "# pizzaCalcBot\n",
        "# 1. Ask the person how many pizzas they want. get number with eval()\n",
        "number_of_pizzas = eval(input(\"How many pizzas do you want? \"))\n",
        "\n",
        "# 2. Ask for the menu cost of each pizza.\n",
        "cost_per_pizza = eval(input(\"How much does each pizza cost? \"))\n",
        "\n",
        "# 3. Calculate the total cost of the pizzas as our subtotal.\n",
        "subtotal = number_of_pizzas * cost_per_pizza\n",
        "\n",
        "# 4. Calculate the sales tax owed, at 9 percent of the subtotal.\n",
        "tax_rate = 0.09 # Change the tax rate here\n",
        "sales_tax = subtotal * tax_rate\n",
        "\n",
        "# 5. Add the sales tax to the subtotal for the final total.\n",
        "\n",
        "total = subtotal + sales_tax\n",
        "\n",
        "# 6. Show the user the total amount due, including tax.\n",
        "print(\"The total cost is $\", total)\n",
        "print(\"This includes $\", subtotal, \"for the pizza and\")\n",
        "print(\"$\", sales_tax, \"in sales tax.\")\n",
        "\n"
      ],
      "execution_count": 32,
      "outputs": [
        {
          "output_type": "stream",
          "text": [
            "How many pizzas do you want? 2\n",
            "How much does each pizza cost? 12.25\n",
            "The total cost is $ 26.705\n",
            "This includes $ 24.5 for the pizza and\n",
            "$ 2.205 in sales tax.\n"
          ],
          "name": "stdout"
        }
      ]
    },
    {
      "cell_type": "code",
      "metadata": {
        "id": "0wvpYOxaTz5K"
      },
      "source": [
        ""
      ],
      "execution_count": null,
      "outputs": []
    }
  ]
}